{
 "cells": [
  {
   "cell_type": "markdown",
   "metadata": {},
   "source": [
    "Create and analyze network of gene-reaction associations in the Recon 2M.2 metabolic model"
   ]
  },
  {
   "cell_type": "code",
   "execution_count": null,
   "metadata": {},
   "outputs": [],
   "source": [
    "import pandas as pd\n",
    "import networkx as nx\n",
    "import matplotlib.pyplot as plt"
   ]
  },
  {
   "cell_type": "markdown",
   "metadata": {},
   "source": [
    "associations has the gene-reaction matrix which has been exported from MATLAB after computation using the rules of the model"
   ]
  },
  {
   "cell_type": "code",
   "execution_count": null,
   "metadata": {},
   "outputs": [],
   "source": [
    "associations = pd.read_excel('gene-reaction.xlsx', header=None)\n",
    "associations.head()"
   ]
  },
  {
   "cell_type": "markdown",
   "metadata": {},
   "source": [
    "rxn has the reaction names of the model"
   ]
  },
  {
   "cell_type": "code",
   "execution_count": null,
   "metadata": {},
   "outputs": [],
   "source": [
    "rxn = pd.read_excel(\"rxnNames.xlsx\", header=None)\n",
    "rxn.head()"
   ]
  },
  {
   "cell_type": "markdown",
   "metadata": {},
   "source": [
    "gene has the gene names of the model"
   ]
  },
  {
   "cell_type": "code",
   "execution_count": null,
   "metadata": {},
   "outputs": [],
   "source": [
    "gene = pd.read_excel(\"metGeneNames.xlsx\", header=None)\n",
    "gene.head()"
   ]
  },
  {
   "cell_type": "markdown",
   "metadata": {},
   "source": [
    "Create a graph and add nodes and edges. The edges are added only if there is an association between the reaction and the gene."
   ]
  },
  {
   "cell_type": "code",
   "execution_count": null,
   "metadata": {},
   "outputs": [],
   "source": [
    "B = nx.Graph()\n",
    "B.add_nodes_from(rxn[0].values, bipartite=0)\n",
    "B.add_nodes_from(gene[0].values, bipartite=1)\n",
    "\n",
    "for i in range(5842):\n",
    "    for j in range(1663):\n",
    "        if associations.iloc[i,j] == 1:\n",
    "            B.add_edge(rxn.iloc[i,0], gene.iloc[j,0])"
   ]
  },
  {
   "cell_type": "code",
   "execution_count": null,
   "metadata": {},
   "outputs": [],
   "source": [
    "B.number_of_nodes(), B.number_of_edges()"
   ]
  },
  {
   "cell_type": "markdown",
   "metadata": {},
   "source": [
    "Degree distributions"
   ]
  },
  {
   "cell_type": "code",
   "execution_count": null,
   "metadata": {},
   "outputs": [],
   "source": [
    "plt.hist(dict(B.degree(rxn[0].values)).values(), bins=10, edgecolor='black', alpha=0.5, label='Reactions', log=True)\n",
    "plt.xlabel('Reaction Degree')\n",
    "plt.ylabel(\"Log Frequency\")"
   ]
  },
  {
   "cell_type": "code",
   "execution_count": null,
   "metadata": {},
   "outputs": [],
   "source": [
    "plt.hist(dict(B.degree(gene[0].values)).values(), bins=10, edgecolor='black', alpha=0.5, label='Genes', log=True)\n",
    "plt.xlabel('Gene Degree')\n",
    "plt.ylabel(\"Log Frequency\")"
   ]
  },
  {
   "cell_type": "markdown",
   "metadata": {},
   "source": [
    "Clustering coefficient distributions"
   ]
  },
  {
   "cell_type": "code",
   "execution_count": null,
   "metadata": {},
   "outputs": [],
   "source": [
    "plt.hist(dict(nx.bipartite.clustering(B, gene[0].values)).values(), bins=10, edgecolor='black', alpha=0.5, label='Genes')\n",
    "plt.xlabel('Genes Clustering Coefficient')\n",
    "plt.ylabel(\"Frequency\")"
   ]
  },
  {
   "cell_type": "code",
   "execution_count": null,
   "metadata": {},
   "outputs": [],
   "source": [
    "plt.hist(dict(nx.bipartite.clustering(B, rxn[0].values)).values(), bins=10, edgecolor='black', alpha=0.5, label='Genes')\n",
    "plt.xlabel('Reaction Clustering Coefficient')\n",
    "plt.ylabel(\"Frequency\")"
   ]
  }
 ],
 "metadata": {
  "language_info": {
   "name": "python"
  }
 },
 "nbformat": 4,
 "nbformat_minor": 2
}
